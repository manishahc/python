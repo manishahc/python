{
  "nbformat": 4,
  "nbformat_minor": 0,
  "metadata": {
    "colab": {
      "name": "conditional exercise.ipynb",
      "provenance": [],
      "authorship_tag": "ABX9TyO68aTzLmrVWQzpbo1x2ak9",
      "include_colab_link": true
    },
    "kernelspec": {
      "name": "python3",
      "display_name": "Python 3"
    }
  },
  "cells": [
    {
      "cell_type": "markdown",
      "metadata": {
        "id": "view-in-github",
        "colab_type": "text"
      },
      "source": [
        "<a href=\"https://colab.research.google.com/github/manishahc/python/blob/master/conditional_exercise.ipynb\" target=\"_parent\"><img src=\"https://colab.research.google.com/assets/colab-badge.svg\" alt=\"Open In Colab\"/></a>"
      ]
    },
    {
      "cell_type": "code",
      "metadata": {
        "id": "_iGDvGb6bTnI",
        "colab_type": "code",
        "colab": {
          "base_uri": "https://localhost:8080/",
          "height": 34
        },
        "outputId": "fd44db52-ef74-470e-a94c-9eff448e4c0d"
      },
      "source": [
        "name = 'John Doe'\n",
        "if len_name > 20:\n",
        "  print('Name \"{}\" is more than 20 chars long'.format(name))\n",
        "  length_description = 'long'\n",
        "elif len_name > 15:\n",
        "  print('Name \"{}\" is more than 15 chars long'.format(name))\n",
        "  length_description = 'semi long'\n",
        "elif len_name > 10:\n",
        "  print('Name \"{}\" is more than 10 chars long'.format(name))\n",
        "  length_description = 'semi long'\n",
        "elif 8 >= len_name <= 10:\n",
        "  print('Name \"{}\" is 8,9 or 10 chars long'.format(name))\n",
        "  length_description = 'semi short'\n",
        "else:\n",
        "  print('Name \"{}\" is a short name'.format(name))\n",
        "  length_description = 'short'\n",
        "assert length_description == 'semi short' \n"
      ],
      "execution_count": 6,
      "outputs": [
        {
          "output_type": "stream",
          "text": [
            "Name \"John Doe\" is 8,9 or 10 chars long\n"
          ],
          "name": "stdout"
        }
      ]
    }
  ]
}